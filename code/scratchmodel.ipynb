{
 "cells": [
  {
   "cell_type": "code",
   "execution_count": 1,
   "id": "1a7243d7-898c-4fe4-b0b0-f3117c0adf62",
   "metadata": {},
   "outputs": [],
   "source": [
    "import openmc\n",
    "import numpy as np\n",
    "import time"
   ]
  },
  {
   "cell_type": "code",
   "execution_count": 2,
   "id": "097c9c65-6993-403a-a30b-190807644428",
   "metadata": {},
   "outputs": [],
   "source": [
    "#mats taken from openmc triso example https://github.com/openmc-dev/openmc/wiki/Example-Jupyter-Notebooks\n",
    "\n",
    "#TRISO fuel specific\n",
    "fuel = openmc.Material(name='Fuel')\n",
    "fuel.set_density('g/cm3', 10.5)\n",
    "fuel.add_nuclide('U235', 4.6716e-02)\n",
    "fuel.add_nuclide('U238', 2.8697e-01)\n",
    "fuel.add_nuclide('O16',  5.0000e-01)\n",
    "fuel.add_element('C', 1.6667e-01)\n",
    "\n",
    "PyC = openmc.Material(name='PyC1')\n",
    "PyC.set_density('g/cm3', 1.9)\n",
    "PyC.add_element('C', 1.0)\n",
    "PyC.add_s_alpha_beta('c_Graphite')\n",
    "\n",
    "#outer pebble material\n",
    "graphite = openmc.Material()\n",
    "graphite.set_density('g/cm3', 1.1995)\n",
    "graphite.add_element('C', 1.0)\n",
    "graphite.add_s_alpha_beta('c_Graphite')\n",
    "\n",
    "\n",
    "#PBR coolant type\n",
    "he = openmc.Material(name='He')\n",
    "he.set_density('atom/b-cm', 0.0006) #'atom/b-cm', 0.0006\n",
    "he.add_element('He', 1.0)\n",
    "\n",
    "#in centimeters (assuming it to be, looking at above units)\n",
    "peb_or = 0.6\n",
    "peb_ir = 0.5\n",
    "kernel_or = 0.04225  #may need to look for this value & the one below\n",
    "kernel_ir = 0.0215\n",
    "core_r = 0.5*100\n",
    "core_h = 4.16*100\n",
    "\n",
    "#so this would be needed in case we want to add more layers for our core\n",
    "#reflector_t = core_r*0.3\n",
    "\n",
    "#pebble looking at the fuel portion\n",
    "peb_wfuel = openmc.Sphere(r=peb_ir)\n",
    "peb_wfuel_outer = -peb_wfuel #saying that the outer radius is simply the pebble inner radius\n",
    "\n",
    "sphere_kern = openmc.Sphere(r=kernel_ir)\n",
    "cell = [openmc.Cell(fill=fuel, region = -sphere_kern), openmc.Cell(fill=PyC, region=+sphere_kern)] #the \"+sphere_kern\" is saying that the PyC layer \n",
    "                                                                                                   #is past the fuel-containing kernel\n",
    "triso_univ = openmc.Universe(cells=cell)\n",
    "\n",
    "centers = openmc.model.pack_spheres(kernel_or, region=peb_wfuel_outer, pf=0.1) #saying to fill only the fuel portion of the TRISO particle\n",
    "#above function will pack pebbles into a sphere, it returns an array of positions that are used in the in next line of code \n",
    "trisos = [openmc.model.TRISO(kernel_or, triso_univ, center) for center in centers] # packs pebbles based on the centers positions array \n",
    "\n",
    "peb_nofuel = openmc.Sphere(r=peb_or) #generates a sphere of this radius\n",
    "peb_nofuel_zone_outer = -peb_nofuel \n",
    "peb_nofuel_zone_inner = +peb_wfuel #creates a non-fuel region for our pebble\n",
    "peb_fuel_zone = -peb_wfuel\n",
    "\n",
    "sphere = openmc.Cell(region=peb_wfuel_outer) #only focusing on fuel containing portion of our fuel pebble\n",
    "lower_left, upper_right = sphere.region.bounding_box\n",
    "shape = (5, 5, 5) #Number of lattice elements in the x-, y-, and z-directions, look at the example in the repo\n",
    "pitch = (upper_right - lower_left)/shape\n",
    "lattice = openmc.model.create_triso_lattice(\n",
    "    trisos, lower_left, pitch, shape, graphite)\n",
    "\n",
    "sphere.fill = lattice\n",
    "\n",
    "pebble_element = [sphere,\n",
    "              openmc.Cell(fill=graphite, region=peb_nofuel_zone_inner & peb_nofuel_zone_outer)]\n",
    "pebble_univ = openmc.Universe(cells=pebble_element)\n",
    "active_core_sides = openmc.ZCylinder(r = core_r)\n",
    "active_core_top = openmc.ZPlane(z0=(core_h/2))\n",
    "active_core_bot = openmc.ZPlane(z0=-(core_h/2))\n",
    "active_core_bound = -active_core_sides & -active_core_top & +active_core_bot"
   ]
  },
  {
   "cell_type": "code",
   "execution_count": 9,
   "id": "f63a012e-f945-4882-892a-772014714d74",
   "metadata": {},
   "outputs": [
    {
     "name": "stdout",
     "output_type": "stream",
     "text": [
      "starting openmc pack\n",
      "4.342272649984807\n",
      "[-4.49978128 -4.49865231 -4.5       ]\n",
      "[4.49997457 4.49994927 4.5       ]\n"
     ]
    }
   ],
   "source": [
    "print(\"starting openmc pack\")\n",
    "start_time = time.perf_counter()\n",
    "peb_centers = openmc.model.pack_spheres(peb_or, region=active_core_bound, pf = .40, contraction_rate = 0.0001)\n",
    "print(time.perf_counter()-start_time)\n",
    "\n",
    "pebs = [openmc.model.TRISO(peb_or, pebble_univ, peb_center) for peb_center in peb_centers]\n",
    "\n",
    "peb_centertest = np.vstack([peb.center for peb in pebs])\n",
    "print(peb_centertest.min(axis=0))\n",
    "print(peb_centertest.max(axis=0))\n",
    "\n",
    "inner_core = openmc.Cell(region=active_core_bound)\n",
    "lower_left_core, upper_right_core = inner_core.region.bounding_box\n",
    "shape_core = (5, 5, 5)\n",
    "pitch_core = (upper_right_core - lower_left_core)/shape_core\n",
    "core_lattice = openmc.model.create_triso_lattice(\n",
    "    pebs, lower_left_core, pitch_core, shape_core, he)\n",
    "\n",
    "inner_core.fill=core_lattice"
   ]
  },
  {
   "cell_type": "code",
   "execution_count": 4,
   "id": "4155c666-c628-4890-be5f-4d7aabb4e8dc",
   "metadata": {},
   "outputs": [],
   "source": [
    "#AGAIN, looking at adding material surrounding the core (or our cask)\n",
    "\n",
    "#outer_reflector_sides = openmc.ZCylinder(r = (core_r+reflector_t), boundary_type='vacuum')\n",
    "#outer_reflector_top = openmc.ZPlane(z0=((core_h/2)+reflector_t),boundary_type='vacuum')\n",
    "#outer_reflector_bot = openmc.ZPlane(z0=-((core_h/2)+reflector_t),boundary_type='vacuum')\n",
    "#reflector_outer = -outer_reflector_sides & -outer_reflector_top & +outer_reflector_bot\n",
    "#reflector_bounds = reflector_outer | active_core_bound\n",
    "#reflector = openmc.Cell(region = reflector_bounds, fill = graphite)"
   ]
  },
  {
   "cell_type": "code",
   "execution_count": 5,
   "id": "eb72676f-937e-4d32-a179-c56a69caaa99",
   "metadata": {},
   "outputs": [
    {
     "ename": "RuntimeError",
     "evalue": "OpenMC aborted unexpectedly.",
     "output_type": "error",
     "traceback": [
      "\u001b[0;31m---------------------------------------------------------------------------\u001b[0m",
      "\u001b[0;31mRuntimeError\u001b[0m                              Traceback (most recent call last)",
      "\u001b[1;32m/Users/cesarzambrano/2025-pequette-snfpebbles/code/scratchmodel.ipynb Cell 5\u001b[0m line \u001b[0;36m1\n\u001b[1;32m     <a href='vscode-notebook-cell:/Users/cesarzambrano/2025-pequette-snfpebbles/code/scratchmodel.ipynb#W4sZmlsZQ%3D%3D?line=15'>16</a>\u001b[0m plot\u001b[39m.\u001b[39mwidth \u001b[39m=\u001b[39m (core_r\u001b[39m*\u001b[39m\u001b[39m4\u001b[39m, core_h\u001b[39m*\u001b[39m\u001b[39m2\u001b[39m)\n\u001b[1;32m     <a href='vscode-notebook-cell:/Users/cesarzambrano/2025-pequette-snfpebbles/code/scratchmodel.ipynb#W4sZmlsZQ%3D%3D?line=16'>17</a>\u001b[0m plot\u001b[39m.\u001b[39mpixels \u001b[39m=\u001b[39m (\u001b[39m600\u001b[39m, \u001b[39m600\u001b[39m)\n\u001b[0;32m---> <a href='vscode-notebook-cell:/Users/cesarzambrano/2025-pequette-snfpebbles/code/scratchmodel.ipynb#W4sZmlsZQ%3D%3D?line=17'>18</a>\u001b[0m plot\u001b[39m.\u001b[39;49mto_ipython_image()\n\u001b[1;32m     <a href='vscode-notebook-cell:/Users/cesarzambrano/2025-pequette-snfpebbles/code/scratchmodel.ipynb#W4sZmlsZQ%3D%3D?line=18'>19</a>\u001b[0m \u001b[39m#mc.plot_inline(plot)\u001b[39;00m\n",
      "File \u001b[0;32m/opt/anaconda3/envs/458/lib/python3.12/site-packages/openmc/plots.py:940\u001b[0m, in \u001b[0;36mPlot.to_ipython_image\u001b[0;34m(self, openmc_exec, cwd)\u001b[0m\n\u001b[1;32m    937\u001b[0m Plots([\u001b[39mself\u001b[39m])\u001b[39m.\u001b[39mexport_to_xml(cwd)\n\u001b[1;32m    939\u001b[0m \u001b[39m# Run OpenMC in geometry plotting mode\u001b[39;00m\n\u001b[0;32m--> 940\u001b[0m openmc\u001b[39m.\u001b[39;49mplot_geometry(\u001b[39mFalse\u001b[39;49;00m, openmc_exec, cwd)\n\u001b[1;32m    942\u001b[0m \u001b[39m# Return produced image\u001b[39;00m\n\u001b[1;32m    943\u001b[0m \u001b[39mreturn\u001b[39;00m _get_plot_image(\u001b[39mself\u001b[39m, cwd)\n",
      "File \u001b[0;32m/opt/anaconda3/envs/458/lib/python3.12/site-packages/openmc/executor.py:154\u001b[0m, in \u001b[0;36mplot_geometry\u001b[0;34m(output, openmc_exec, cwd, path_input)\u001b[0m\n\u001b[1;32m    152\u001b[0m \u001b[39mif\u001b[39;00m path_input \u001b[39mis\u001b[39;00m \u001b[39mnot\u001b[39;00m \u001b[39mNone\u001b[39;00m:\n\u001b[1;32m    153\u001b[0m     args \u001b[39m+\u001b[39m\u001b[39m=\u001b[39m [path_input]\n\u001b[0;32m--> 154\u001b[0m _run(args, output, cwd)\n",
      "File \u001b[0;32m/opt/anaconda3/envs/458/lib/python3.12/site-packages/openmc/executor.py:125\u001b[0m, in \u001b[0;36m_run\u001b[0;34m(args, output, cwd)\u001b[0m\n\u001b[1;32m    122\u001b[0m     error_msg \u001b[39m=\u001b[39m \u001b[39m'\u001b[39m\u001b[39mOpenMC aborted unexpectedly.\u001b[39m\u001b[39m'\u001b[39m\n\u001b[1;32m    123\u001b[0m error_msg \u001b[39m=\u001b[39m \u001b[39m'\u001b[39m\u001b[39m \u001b[39m\u001b[39m'\u001b[39m\u001b[39m.\u001b[39mjoin(error_msg\u001b[39m.\u001b[39msplit())\n\u001b[0;32m--> 125\u001b[0m \u001b[39mraise\u001b[39;00m \u001b[39mRuntimeError\u001b[39;00m(error_msg)\n",
      "\u001b[0;31mRuntimeError\u001b[0m: OpenMC aborted unexpectedly."
     ]
    }
   ],
   "source": [
    "universe = openmc.Universe(cells=[inner_core, reflector])\n",
    "\n",
    "geometry = openmc.Geometry(universe)\n",
    "geometry.export_to_xml()\n",
    "\n",
    "materials = list(geometry.get_all_materials().values())\n",
    "openmc.Materials(materials).export_to_xml()\n",
    "\n",
    "settings = openmc.Settings()\n",
    "settings.run_mode = 'plot'\n",
    "settings.export_to_xml()\n",
    "\n",
    "#mc.plot_geometry()\n",
    "plot = openmc.Plot.from_geometry(geometry)\n",
    "plot.basis = 'xz'\n",
    "plot.width = (core_r*4, core_h*2)\n",
    "plot.pixels = (600, 600)\n",
    "plot.to_ipython_image()\n",
    "#mc.plot_inline(plot)"
   ]
  },
  {
   "cell_type": "code",
   "execution_count": 6,
   "id": "b1c30e70-54d9-474b-8931-a037f45a05b2",
   "metadata": {},
   "outputs": [
    {
     "ename": "RuntimeError",
     "evalue": "OpenMC aborted unexpectedly.",
     "output_type": "error",
     "traceback": [
      "\u001b[0;31m---------------------------------------------------------------------------\u001b[0m",
      "\u001b[0;31mRuntimeError\u001b[0m                              Traceback (most recent call last)",
      "\u001b[1;32m/Users/cesarzambrano/2025-pequette-snfpebbles/code/scratchmodel.ipynb Cell 6\u001b[0m line \u001b[0;36m5\n\u001b[1;32m      <a href='vscode-notebook-cell:/Users/cesarzambrano/2025-pequette-snfpebbles/code/scratchmodel.ipynb#W5sZmlsZQ%3D%3D?line=2'>3</a>\u001b[0m plot\u001b[39m.\u001b[39mwidth \u001b[39m=\u001b[39m (core_r\u001b[39m*\u001b[39m\u001b[39m3\u001b[39m, core_h\u001b[39m*\u001b[39m\u001b[39m1.5\u001b[39m)\n\u001b[1;32m      <a href='vscode-notebook-cell:/Users/cesarzambrano/2025-pequette-snfpebbles/code/scratchmodel.ipynb#W5sZmlsZQ%3D%3D?line=3'>4</a>\u001b[0m plot\u001b[39m.\u001b[39mpixels \u001b[39m=\u001b[39m (\u001b[39m2400\u001b[39m, \u001b[39m2400\u001b[39m)\n\u001b[0;32m----> <a href='vscode-notebook-cell:/Users/cesarzambrano/2025-pequette-snfpebbles/code/scratchmodel.ipynb#W5sZmlsZQ%3D%3D?line=4'>5</a>\u001b[0m plot\u001b[39m.\u001b[39;49mto_ipython_image()\n",
      "File \u001b[0;32m/opt/anaconda3/envs/458/lib/python3.12/site-packages/openmc/plots.py:940\u001b[0m, in \u001b[0;36mPlot.to_ipython_image\u001b[0;34m(self, openmc_exec, cwd)\u001b[0m\n\u001b[1;32m    937\u001b[0m Plots([\u001b[39mself\u001b[39m])\u001b[39m.\u001b[39mexport_to_xml(cwd)\n\u001b[1;32m    939\u001b[0m \u001b[39m# Run OpenMC in geometry plotting mode\u001b[39;00m\n\u001b[0;32m--> 940\u001b[0m openmc\u001b[39m.\u001b[39;49mplot_geometry(\u001b[39mFalse\u001b[39;49;00m, openmc_exec, cwd)\n\u001b[1;32m    942\u001b[0m \u001b[39m# Return produced image\u001b[39;00m\n\u001b[1;32m    943\u001b[0m \u001b[39mreturn\u001b[39;00m _get_plot_image(\u001b[39mself\u001b[39m, cwd)\n",
      "File \u001b[0;32m/opt/anaconda3/envs/458/lib/python3.12/site-packages/openmc/executor.py:154\u001b[0m, in \u001b[0;36mplot_geometry\u001b[0;34m(output, openmc_exec, cwd, path_input)\u001b[0m\n\u001b[1;32m    152\u001b[0m \u001b[39mif\u001b[39;00m path_input \u001b[39mis\u001b[39;00m \u001b[39mnot\u001b[39;00m \u001b[39mNone\u001b[39;00m:\n\u001b[1;32m    153\u001b[0m     args \u001b[39m+\u001b[39m\u001b[39m=\u001b[39m [path_input]\n\u001b[0;32m--> 154\u001b[0m _run(args, output, cwd)\n",
      "File \u001b[0;32m/opt/anaconda3/envs/458/lib/python3.12/site-packages/openmc/executor.py:125\u001b[0m, in \u001b[0;36m_run\u001b[0;34m(args, output, cwd)\u001b[0m\n\u001b[1;32m    122\u001b[0m     error_msg \u001b[39m=\u001b[39m \u001b[39m'\u001b[39m\u001b[39mOpenMC aborted unexpectedly.\u001b[39m\u001b[39m'\u001b[39m\n\u001b[1;32m    123\u001b[0m error_msg \u001b[39m=\u001b[39m \u001b[39m'\u001b[39m\u001b[39m \u001b[39m\u001b[39m'\u001b[39m\u001b[39m.\u001b[39mjoin(error_msg\u001b[39m.\u001b[39msplit())\n\u001b[0;32m--> 125\u001b[0m \u001b[39mraise\u001b[39;00m \u001b[39mRuntimeError\u001b[39;00m(error_msg)\n",
      "\u001b[0;31mRuntimeError\u001b[0m: OpenMC aborted unexpectedly."
     ]
    }
   ],
   "source": [
    "plot.color_by = 'material'\n",
    "plot.colors = {graphite: 'gray', he: 'lightblue', fuel: 'hotpink', PyC: 'lavender'}\n",
    "plot.width = (core_r*3, core_h*1.5)\n",
    "plot.pixels = (2400, 2400)\n",
    "plot.to_ipython_image()"
   ]
  },
  {
   "cell_type": "code",
   "execution_count": null,
   "id": "64183424-cab3-4f5e-83d7-d600cb6f14e4",
   "metadata": {},
   "outputs": [],
   "source": []
  }
 ],
 "metadata": {
  "kernelspec": {
   "display_name": "Python 3 (ipykernel)",
   "language": "python",
   "name": "python3"
  },
  "language_info": {
   "codemirror_mode": {
    "name": "ipython",
    "version": 3
   },
   "file_extension": ".py",
   "mimetype": "text/x-python",
   "name": "python",
   "nbconvert_exporter": "python",
   "pygments_lexer": "ipython3",
   "version": "3.12.9"
  }
 },
 "nbformat": 4,
 "nbformat_minor": 5
}
