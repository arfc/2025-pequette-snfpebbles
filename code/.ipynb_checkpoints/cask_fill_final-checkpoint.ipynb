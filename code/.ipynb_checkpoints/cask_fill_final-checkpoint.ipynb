{
 "cells": [
  {
   "cell_type": "code",
   "execution_count": 1,
   "id": "1a7243d7-898c-4fe4-b0b0-f3117c0adf62",
   "metadata": {},
   "outputs": [],
   "source": [
    "import openmc\n",
    "import numpy as np\n",
    "import time\n",
    "import csv"
   ]
  },
  {
   "cell_type": "code",
   "execution_count": 4,
   "id": "097c9c65-6993-403a-a30b-190807644428",
   "metadata": {
    "scrolled": true
   },
   "outputs": [],
   "source": [
    "#mats taken from openmc triso example https://github.com/openmc-dev/openmc/wiki/Example-Jupyter-Notebooks\n",
    "\n",
    "#TRISO fuel specific\n",
    "fuel = openmc.Material(name='Fuel')\n",
    "fuel.set_density('g/cm3', 10.5)\n",
    "\n",
    "#below compositions will need to be adjusted as this is for fresh fuel\n",
    "fuel.add_nuclide('U235', 4.6716e-02)\n",
    "fuel.add_nuclide('U238', 2.8697e-01)\n",
    "fuel.add_nuclide('O16',  5.0000e-01)\n",
    "fuel.add_element('C', 1.6667e-01)\n",
    "\n",
    "\n",
    "#need to add buffer layer:\n",
    "Buffer = openmc.Material(name='Buffer')\n",
    "Buffer.set_density('g/cm3', 1.02)\n",
    "Buffer.add_element('C', 1.0)\n",
    "Buffer.add_s_alpha_beta('c_Graphite')\n",
    "t_Buffer = 0.01 #thickeness of buffer layer\n",
    "\n",
    "#adding the PyC layer\n",
    "PyC = openmc.Material(name='PyC1')\n",
    "PyC.set_density('g/cm3', 1.92)\n",
    "PyC.add_element('C', 1.0)\n",
    "PyC.add_s_alpha_beta('c_Graphite')\n",
    "tiPyC = 0.0039 #thickness of inner PyC\n",
    "toPyC = tiPyC\n",
    "\n",
    "#adding the SiC layer\n",
    "SiC = openmc.Material(name='SiC')\n",
    "SiC.set_density('g/cm3', 3.2)\n",
    "SiC.add_element('C', 0.5)\n",
    "SiC.add_element('Si', 0.5)\n",
    "tSic = 0.0035 #thickness of SiC\n",
    "\n",
    "#outer pebble material\n",
    "graphite = openmc.Material()\n",
    "graphite.set_density('g/cm3', 1.1995) #need to find this value!!, know its A3-3 Graphite but what density\n",
    "graphite.add_element('C', 1.0) \n",
    "graphite.add_s_alpha_beta('c_Graphite')\n",
    "\n",
    "\n",
    "#cask fill insert, may also be helium\n",
    "air = openmc.Material(name='air')\n",
    "air.set_density('atom/b-cm', 0.0006) #'atom/b-cm', 0.0006\n",
    "air.add_element('N',0.78)\n",
    "air.add_element('O',0.21)\n",
    "air.add_element('Ar',0.01)\n",
    "\n",
    "\n",
    "#in centimeters (assuming it to be, looking at above units), need to check this with ZOE\n",
    "#fuel pebble dimensions\n",
    "peb_or = 3 #non-fuel portion\n",
    "peb_ir = 2.5 #fuel portion\n",
    "\n",
    "#TRISO particle dimensions\n",
    "kernel_or = 0.02545 #radius of fuel kernel\n",
    "buffer_r = kernel_or + t_Buffer\n",
    "ipyc_r = buffer_r + tiPyC\n",
    "sic_r = ipyc_r + tSic\n",
    "opyc_r = sic_r + tiPyC #should be around 0.0455 cm, it is 0.04675\n",
    "\n",
    "#core (cask) dimensions \n",
    "core_r = 0.5*100\n",
    "core_h = 4.16*100\n",
    "\n",
    "#more defining of our triso particles, all code below for developing our TRISO particles\n",
    "kernelsph = openmc.Sphere(r=kernel_or)\n",
    "buffsph = openmc.Sphere(r=buffer_r)\n",
    "IPyCsph = openmc.Sphere(r=ipyc_r)\n",
    "SiCsph = openmc.Sphere(r=sic_r)\n",
    "OPyCsph = openmc.Sphere(r=opyc_r)\n",
    "\n",
    "layers = [kernelsph, buffsph, IPyCsph, SiCsph, OPyCsph]\n",
    "triso_mats = [fuel, Buffer, PyC, SiC, PyC]\n",
    "triso_cells = []\n",
    "for i in range(5):\n",
    "  if (i == 0):\n",
    "    triso_cells.append(openmc.Cell(fill=triso_mats[0], region=-layers[0]))\n",
    "  else:\n",
    "    triso_cells.append(openmc.Cell(fill=triso_mats[i], region=+layers[i-1] & -layers[i]))\n",
    "\n",
    "triso_universe = openmc.Universe(cells=triso_cells)\n",
    "triso_colors = {triso_cells[0]: (199, 51, 51), triso_cells[1]: (178, 227, 74), \n",
    "                triso_cells[2]: (74, 186, 120), triso_cells[3]: (30, 74, 107), \n",
    "                triso_cells[4]: (74, 186, 120)}\n",
    "#triso_universe.plot(width = (0.1, 0.1), colors = triso_colors)\n",
    "\n",
    "#defining region to fill our fuel pebbles with!!!!!\n",
    "peb_wfuel = openmc.Sphere(r=peb_ir)\n",
    "peb_wfuel_outer = -peb_wfuel\n",
    "\n",
    "centers = openmc.model.pack_spheres(opyc_r, region=peb_wfuel_outer, num_spheres = 19000 ) #saying to fill only the fuel portion of the TRISO particle\n",
    "#above function will pack pebbles into a sphere, it returns an array of positions that are used in the in next line of code \n",
    "trisos = [openmc.model.TRISO(kernel_or, triso_universe, center) for center in centers] # packs pebbles based on the centers positions array \n",
    "#print(centers) #this is the positions of the TRISO pebbles themselves\n"
   ]
  },
  {
   "cell_type": "code",
   "execution_count": 7,
   "id": "47c16ceb-cda3-43dc-a58a-cb111598d1e9",
   "metadata": {},
   "outputs": [],
   "source": [
    "#running trisos function separately to ensure multiple particles are not packed\n",
    "#trisos"
   ]
  },
  {
   "cell_type": "code",
   "execution_count": 8,
   "id": "17c956e7-c339-4873-bb23-e53b9a8f94fe",
   "metadata": {},
   "outputs": [],
   "source": [
    "#need to develop the geometry of our cask as a region\n",
    "inner_cask = openmc.ZCylinder(r=0.5)\n",
    "maxz = openmc.ZPlane(z0=core_h/2, boundary_type='reflective')\n",
    "minz = openmc.ZPlane(z0=-core_h/2, boundary_type='reflective')\n",
    "\n",
    "lattice_region = -inner_cask & -maxz & +minz"
   ]
  },
  {
   "cell_type": "code",
   "execution_count": 9,
   "id": "390e1502-af3a-42c0-90c1-11c5eb6a3c96",
   "metadata": {},
   "outputs": [
    {
     "data": {
      "text/plain": [
       "[-7.42791, -48.4345, -205.002]"
      ]
     },
     "execution_count": 9,
     "metadata": {},
     "output_type": "execute_result"
    }
   ],
   "source": [
    "#code to get the location data for the individual fuel pebbles!!!!!\n",
    "results = []\n",
    "new_row = []\n",
    "with open(\"1day_run_final_positions.csv\") as csvfile:\n",
    "    reader = csv.reader(csvfile, quoting=csv.QUOTE_NONNUMERIC) # change contents to floats\n",
    "    for row in reader: # each row is a list\n",
    "        results.append(row)\n",
    "      \n",
    "def multiply_list_by_scalar(list_of_lists, scalar):\n",
    "    output = [[element * scalar for element in sub_list] for sub_list in list_of_lists]\n",
    "    return output\n",
    "\n",
    "# Example usage:\n",
    "my_list = results\n",
    "scalar_value = 100\n",
    "multiplied_list = multiply_list_by_scalar(my_list, scalar_value)\n",
    "multiplied_list[0] "
   ]
  },
  {
   "cell_type": "code",
   "execution_count": 20,
   "id": "cfd98466",
   "metadata": {},
   "outputs": [
    {
     "data": {
      "text/plain": [
       "<Axes: xlabel='x [cm]', ylabel='y [cm]'>"
      ]
     },
     "execution_count": 20,
     "metadata": {},
     "output_type": "execute_result"
    },
    {
     "data": {
      "image/png": "[encoded data removed]",
      "text/plain": [
       "<Figure size 258.065x259.74 with 1 Axes>"
      ]
     },
     "metadata": {},
     "output_type": "display_data"
    }
   ],
   "source": [
    "#generating the fuel pebbler\n",
    "peb_nofuel = openmc.Sphere(r=peb_or) #generates a sphere of this radius\n",
    "peb_nofuel_zone_outer = -peb_nofuel \n",
    "peb_nofuel_zone_inner = +peb_wfuel #creates a non-fuel region for our pebble\n",
    "peb_fuel_zone = -peb_wfuel\n",
    "\n",
    "sphere = openmc.Cell(region=peb_wfuel_outer) #only focusing on fuel containing portion of our fuel pebble\n",
    "lower_left, upper_right = sphere.region.bounding_box\n",
    "shape = (20,20,20) #Number of lattice elements in the x-, y-, and z-directions, look at the example in the repo\n",
    "pitch = (upper_right - lower_left)/shape\n",
    "lattice = openmc.model.create_triso_lattice(\n",
    "    trisos, lower_left, pitch, shape, graphite)\n",
    "sphere.fill = lattice\n",
    "\n",
    "pebble_element = [sphere,\n",
    "              openmc.Cell(fill=graphite, region=peb_nofuel_zone_inner & peb_nofuel_zone_outer)]\n",
    "pebble_univ = openmc.Universe(cells=pebble_element)\n",
    "\n",
    "active_core_sides = openmc.ZCylinder(r = core_r)\n",
    "active_core_top = openmc.ZPlane(z0=(core_h/2))\n",
    "active_core_bot = openmc.ZPlane(z0=-(core_h/2))\n",
    "active_core_bound = -active_core_sides & -active_core_top & +active_core_bot\n",
    "\n",
    "pebble_univ.plot()"
   ]
  },
  {
   "cell_type": "code",
   "execution_count": 21,
   "id": "f63a012e-f945-4882-892a-772014714d74",
   "metadata": {},
   "outputs": [
    {
     "name": "stdout",
     "output_type": "stream",
     "text": [
      "starting openmc pack\n",
      "6.42719678580761e-05\n",
      "[ -49.0027  -49.0037 -205.012 ]\n",
      "[ 49.0021  49.0051 199.823 ]\n"
     ]
    },
    {
     "name": "stderr",
     "output_type": "stream",
     "text": [
      "/home/ceserz2/anaconda3/envs/lammps-openmc/lib/python3.12/site-packages/openmc/model/triso.py:850: UserWarning: TRISO particle is partially or completely outside of the lattice.\n",
      "  warnings.warn('TRISO particle is partially or completely '\n"
     ]
    }
   ],
   "source": [
    "print(\"starting openmc pack\")\n",
    "start_time = time.perf_counter()\n",
    "peb_centers = multiplied_list\n",
    "#openmc.model.pack_spheres(peb_or, region=active_core_bound, pf = .40, contraction_rate = 0.0000001)\n",
    "#need to implement this as an array of a bunch of position arrays, this might be randomly generated\n",
    "print(time.perf_counter()-start_time)\n",
    "\n",
    "pebs = [openmc.model.TRISO(peb_or, pebble_univ, peb_center) for peb_center in peb_centers] #display the locations of these pebbles using the ARFC computer\n",
    "#implement our pebble locations\n",
    "\n",
    "peb_centertest = np.vstack([peb.center for peb in pebs]) #veritically stacks the above array to easily read the positions of the pebbles\n",
    "print(peb_centertest.min(axis=0))\n",
    "print(peb_centertest.max(axis=0))\n",
    "\n",
    "inner_core = openmc.Cell(region=active_core_bound)\n",
    "lower_left_core, upper_right_core = inner_core.region.bounding_box\n",
    "shape_core = (20, 20, 20)\n",
    "pitch_core = (upper_right_core - lower_left_core)/shape_core\n",
    "core_lattice = openmc.model.create_triso_lattice(\n",
    "    pebs, lower_left_core, pitch_core, shape_core, air)\n",
    "\n",
    "inner_core.fill=core_lattice"
   ]
  },
  {
   "cell_type": "code",
   "execution_count": 4,
   "id": "4155c666-c628-4890-be5f-4d7aabb4e8dc",
   "metadata": {},
   "outputs": [],
   "source": [
    "#AGAIN, looking at adding material surrounding the core (or our cask)\n",
    "\n",
    "#outer_reflector_sides = openmc.ZCylinder(r = (core_r+reflector_t), boundary_type='vacuum')\n",
    "#outer_reflector_top = openmc.ZPlane(z0=((core_h/2)+reflector_t),boundary_type='vacuum')\n",
    "#outer_reflector_bot = openmc.ZPlane(z0=-((core_h/2)+reflector_t),boundary_type='vacuum')\n",
    "#reflector_outer = -outer_reflector_sides & -outer_reflector_top & +outer_reflector_bot\n",
    "#reflector_bounds = reflector_outer | active_core_bound\n",
    "#reflector = openmc.Cell(region = reflector_bounds, fill = graphite)"
   ]
  },
  {
   "cell_type": "code",
   "execution_count": 25,
   "id": "154f31f7-54e6-44f2-a3f9-debde175b0b1",
   "metadata": {},
   "outputs": [
    {
     "ename": "KeyboardInterrupt",
     "evalue": "",
     "output_type": "error",
     "traceback": [
      "\u001b[0;31m---------------------------------------------------------------------------\u001b[0m",
      "\u001b[0;31mKeyboardInterrupt\u001b[0m                         Traceback (most recent call last)",
      "Cell \u001b[0;32mIn[25], line 2\u001b[0m\n\u001b[1;32m      1\u001b[0m universe \u001b[38;5;241m=\u001b[39m openmc\u001b[38;5;241m.\u001b[39mUniverse(cells\u001b[38;5;241m=\u001b[39m[inner_core])\n\u001b[0;32m----> 2\u001b[0m \u001b[43muniverse\u001b[49m\u001b[38;5;241;43m.\u001b[39;49m\u001b[43mplot\u001b[49m\u001b[43m(\u001b[49m\u001b[43m)\u001b[49m\n",
      "File \u001b[0;32m~/anaconda3/envs/lammps-openmc/lib/python3.12/site-packages/openmc/universe.py:348\u001b[0m, in \u001b[0;36mUniverseBase.plot\u001b[0;34m(self, *args, **kwargs)\u001b[0m\n\u001b[1;32m    345\u001b[0m         model\u001b[38;5;241m.\u001b[39msettings\u001b[38;5;241m.\u001b[39menergy_mode \u001b[38;5;241m=\u001b[39m \u001b[38;5;124m'\u001b[39m\u001b[38;5;124mmulti-group\u001b[39m\u001b[38;5;124m'\u001b[39m\n\u001b[1;32m    346\u001b[0m         \u001b[38;5;28;01mbreak\u001b[39;00m\n\u001b[0;32m--> 348\u001b[0m \u001b[38;5;28;01mreturn\u001b[39;00m \u001b[43mmodel\u001b[49m\u001b[38;5;241;43m.\u001b[39;49m\u001b[43mplot\u001b[49m\u001b[43m(\u001b[49m\u001b[38;5;241;43m*\u001b[39;49m\u001b[43margs\u001b[49m\u001b[43m,\u001b[49m\u001b[43m \u001b[49m\u001b[38;5;241;43m*\u001b[39;49m\u001b[38;5;241;43m*\u001b[39;49m\u001b[43mkwargs\u001b[49m\u001b[43m)\u001b[49m\n",
      "File \u001b[0;32m~/anaconda3/envs/lammps-openmc/lib/python3.12/site-packages/openmc/model/model.py:934\u001b[0m, in \u001b[0;36mModel.plot\u001b[0;34m(self, origin, width, pixels, basis, color_by, colors, seed, openmc_exec, axes, legend, axis_units, outline, n_samples, plane_tolerance, legend_kwargs, source_kwargs, contour_kwargs, **kwargs)\u001b[0m\n\u001b[1;32m    931\u001b[0m \u001b[38;5;28mself\u001b[39m\u001b[38;5;241m.\u001b[39mplots\u001b[38;5;241m.\u001b[39mappend(plot)\n\u001b[1;32m    933\u001b[0m \u001b[38;5;66;03m# Run OpenMC in geometry plotting mode\u001b[39;00m\n\u001b[0;32m--> 934\u001b[0m \u001b[38;5;28;43mself\u001b[39;49m\u001b[38;5;241;43m.\u001b[39;49m\u001b[43mplot_geometry\u001b[49m\u001b[43m(\u001b[49m\u001b[38;5;28;43;01mFalse\u001b[39;49;00m\u001b[43m,\u001b[49m\u001b[43m \u001b[49m\u001b[43mcwd\u001b[49m\u001b[38;5;241;43m=\u001b[39;49m\u001b[43mtmpdir\u001b[49m\u001b[43m,\u001b[49m\u001b[43m \u001b[49m\u001b[43mopenmc_exec\u001b[49m\u001b[38;5;241;43m=\u001b[39;49m\u001b[43mopenmc_exec\u001b[49m\u001b[43m)\u001b[49m\n\u001b[1;32m    936\u001b[0m \u001b[38;5;66;03m# Read image from file\u001b[39;00m\n\u001b[1;32m    937\u001b[0m img_path \u001b[38;5;241m=\u001b[39m Path(tmpdir) \u001b[38;5;241m/\u001b[39m \u001b[38;5;124mf\u001b[39m\u001b[38;5;124m'\u001b[39m\u001b[38;5;124mplot_\u001b[39m\u001b[38;5;132;01m{\u001b[39;00mplot\u001b[38;5;241m.\u001b[39mid\u001b[38;5;132;01m}\u001b[39;00m\u001b[38;5;124m.png\u001b[39m\u001b[38;5;124m'\u001b[39m\n",
      "File \u001b[0;32m~/anaconda3/envs/lammps-openmc/lib/python3.12/site-packages/openmc/model/model.py:1130\u001b[0m, in \u001b[0;36mModel.plot_geometry\u001b[0;34m(self, output, cwd, openmc_exec, export_model_xml, **export_kwargs)\u001b[0m\n\u001b[1;32m   1128\u001b[0m     \u001b[38;5;28mself\u001b[39m\u001b[38;5;241m.\u001b[39mexport_to_xml(\u001b[38;5;241m*\u001b[39m\u001b[38;5;241m*\u001b[39mexport_kwargs)\n\u001b[1;32m   1129\u001b[0m path_input \u001b[38;5;241m=\u001b[39m export_kwargs\u001b[38;5;241m.\u001b[39mget(\u001b[38;5;124m\"\u001b[39m\u001b[38;5;124mpath\u001b[39m\u001b[38;5;124m\"\u001b[39m, \u001b[38;5;28;01mNone\u001b[39;00m)\n\u001b[0;32m-> 1130\u001b[0m \u001b[43mopenmc\u001b[49m\u001b[38;5;241;43m.\u001b[39;49m\u001b[43mplot_geometry\u001b[49m\u001b[43m(\u001b[49m\u001b[43moutput\u001b[49m\u001b[38;5;241;43m=\u001b[39;49m\u001b[43moutput\u001b[49m\u001b[43m,\u001b[49m\u001b[43m \u001b[49m\u001b[43mopenmc_exec\u001b[49m\u001b[38;5;241;43m=\u001b[39;49m\u001b[43mopenmc_exec\u001b[49m\u001b[43m,\u001b[49m\n\u001b[1;32m   1131\u001b[0m \u001b[43m                     \u001b[49m\u001b[43mpath_input\u001b[49m\u001b[38;5;241;43m=\u001b[39;49m\u001b[43mpath_input\u001b[49m\u001b[43m)\u001b[49m\n",
      "File \u001b[0;32m~/anaconda3/envs/lammps-openmc/lib/python3.12/site-packages/openmc/executor.py:154\u001b[0m, in \u001b[0;36mplot_geometry\u001b[0;34m(output, openmc_exec, cwd, path_input)\u001b[0m\n\u001b[1;32m    152\u001b[0m \u001b[38;5;28;01mif\u001b[39;00m path_input \u001b[38;5;129;01mis\u001b[39;00m \u001b[38;5;129;01mnot\u001b[39;00m \u001b[38;5;28;01mNone\u001b[39;00m:\n\u001b[1;32m    153\u001b[0m     args \u001b[38;5;241m+\u001b[39m\u001b[38;5;241m=\u001b[39m [path_input]\n\u001b[0;32m--> 154\u001b[0m \u001b[43m_run\u001b[49m\u001b[43m(\u001b[49m\u001b[43margs\u001b[49m\u001b[43m,\u001b[49m\u001b[43m \u001b[49m\u001b[43moutput\u001b[49m\u001b[43m,\u001b[49m\u001b[43m \u001b[49m\u001b[43mcwd\u001b[49m\u001b[43m)\u001b[49m\n",
      "File \u001b[0;32m~/anaconda3/envs/lammps-openmc/lib/python3.12/site-packages/openmc/executor.py:104\u001b[0m, in \u001b[0;36m_run\u001b[0;34m(args, output, cwd)\u001b[0m\n\u001b[1;32m    101\u001b[0m lines \u001b[38;5;241m=\u001b[39m []\n\u001b[1;32m    102\u001b[0m \u001b[38;5;28;01mwhile\u001b[39;00m \u001b[38;5;28;01mTrue\u001b[39;00m:\n\u001b[1;32m    103\u001b[0m     \u001b[38;5;66;03m# If OpenMC is finished, break loop\u001b[39;00m\n\u001b[0;32m--> 104\u001b[0m     line \u001b[38;5;241m=\u001b[39m \u001b[43mp\u001b[49m\u001b[38;5;241;43m.\u001b[39;49m\u001b[43mstdout\u001b[49m\u001b[38;5;241;43m.\u001b[39;49m\u001b[43mreadline\u001b[49m\u001b[43m(\u001b[49m\u001b[43m)\u001b[49m\n\u001b[1;32m    105\u001b[0m     \u001b[38;5;28;01mif\u001b[39;00m \u001b[38;5;129;01mnot\u001b[39;00m line \u001b[38;5;129;01mand\u001b[39;00m p\u001b[38;5;241m.\u001b[39mpoll() \u001b[38;5;129;01mis\u001b[39;00m \u001b[38;5;129;01mnot\u001b[39;00m \u001b[38;5;28;01mNone\u001b[39;00m:\n\u001b[1;32m    106\u001b[0m         \u001b[38;5;28;01mbreak\u001b[39;00m\n",
      "\u001b[0;31mKeyboardInterrupt\u001b[0m: "
     ]
    }
   ],
   "source": [
    "universe = openmc.Universe(cells=[inner_core])\n",
    "universe.plot()"
   ]
  },
  {
   "cell_type": "code",
   "execution_count": 17,
   "id": "eb72676f-937e-4d32-a179-c56a69caaa99",
   "metadata": {},
   "outputs": [
    {
     "ename": "KeyboardInterrupt",
     "evalue": "",
     "output_type": "error",
     "traceback": [
      "\u001b[0;31m---------------------------------------------------------------------------\u001b[0m",
      "\u001b[0;31mKeyboardInterrupt\u001b[0m                         Traceback (most recent call last)",
      "Cell \u001b[0;32mIn[17], line 18\u001b[0m\n\u001b[1;32m     16\u001b[0m plot\u001b[38;5;241m.\u001b[39mwidth \u001b[38;5;241m=\u001b[39m (core_r\u001b[38;5;241m*\u001b[39m\u001b[38;5;241m4\u001b[39m, core_h\u001b[38;5;241m*\u001b[39m\u001b[38;5;241m2\u001b[39m)\n\u001b[1;32m     17\u001b[0m plot\u001b[38;5;241m.\u001b[39mpixels \u001b[38;5;241m=\u001b[39m (\u001b[38;5;241m600\u001b[39m, \u001b[38;5;241m600\u001b[39m)\n\u001b[0;32m---> 18\u001b[0m \u001b[43mplot\u001b[49m\u001b[38;5;241;43m.\u001b[39;49m\u001b[43mto_ipython_image\u001b[49m\u001b[43m(\u001b[49m\u001b[43m)\u001b[49m\n\u001b[1;32m     19\u001b[0m \u001b[38;5;66;03m#mc.plot_inline(plot)\u001b[39;00m\n",
      "File \u001b[0;32m~/anaconda3/envs/lammps-openmc/lib/python3.12/site-packages/openmc/plots.py:1025\u001b[0m, in \u001b[0;36mPlot.to_ipython_image\u001b[0;34m(self, openmc_exec, cwd)\u001b[0m\n\u001b[1;32m   1022\u001b[0m Plots([\u001b[38;5;28mself\u001b[39m])\u001b[38;5;241m.\u001b[39mexport_to_xml(cwd)\n\u001b[1;32m   1024\u001b[0m \u001b[38;5;66;03m# Run OpenMC in geometry plotting mode\u001b[39;00m\n\u001b[0;32m-> 1025\u001b[0m \u001b[43mopenmc\u001b[49m\u001b[38;5;241;43m.\u001b[39;49m\u001b[43mplot_geometry\u001b[49m\u001b[43m(\u001b[49m\u001b[38;5;28;43;01mFalse\u001b[39;49;00m\u001b[43m,\u001b[49m\u001b[43m \u001b[49m\u001b[43mopenmc_exec\u001b[49m\u001b[43m,\u001b[49m\u001b[43m \u001b[49m\u001b[43mcwd\u001b[49m\u001b[43m)\u001b[49m\n\u001b[1;32m   1027\u001b[0m \u001b[38;5;66;03m# Return produced image\u001b[39;00m\n\u001b[1;32m   1028\u001b[0m \u001b[38;5;28;01mreturn\u001b[39;00m _get_plot_image(\u001b[38;5;28mself\u001b[39m, cwd)\n",
      "File \u001b[0;32m~/anaconda3/envs/lammps-openmc/lib/python3.12/site-packages/openmc/executor.py:154\u001b[0m, in \u001b[0;36mplot_geometry\u001b[0;34m(output, openmc_exec, cwd, path_input)\u001b[0m\n\u001b[1;32m    152\u001b[0m \u001b[38;5;28;01mif\u001b[39;00m path_input \u001b[38;5;129;01mis\u001b[39;00m \u001b[38;5;129;01mnot\u001b[39;00m \u001b[38;5;28;01mNone\u001b[39;00m:\n\u001b[1;32m    153\u001b[0m     args \u001b[38;5;241m+\u001b[39m\u001b[38;5;241m=\u001b[39m [path_input]\n\u001b[0;32m--> 154\u001b[0m \u001b[43m_run\u001b[49m\u001b[43m(\u001b[49m\u001b[43margs\u001b[49m\u001b[43m,\u001b[49m\u001b[43m \u001b[49m\u001b[43moutput\u001b[49m\u001b[43m,\u001b[49m\u001b[43m \u001b[49m\u001b[43mcwd\u001b[49m\u001b[43m)\u001b[49m\n",
      "File \u001b[0;32m~/anaconda3/envs/lammps-openmc/lib/python3.12/site-packages/openmc/executor.py:104\u001b[0m, in \u001b[0;36m_run\u001b[0;34m(args, output, cwd)\u001b[0m\n\u001b[1;32m    101\u001b[0m lines \u001b[38;5;241m=\u001b[39m []\n\u001b[1;32m    102\u001b[0m \u001b[38;5;28;01mwhile\u001b[39;00m \u001b[38;5;28;01mTrue\u001b[39;00m:\n\u001b[1;32m    103\u001b[0m     \u001b[38;5;66;03m# If OpenMC is finished, break loop\u001b[39;00m\n\u001b[0;32m--> 104\u001b[0m     line \u001b[38;5;241m=\u001b[39m \u001b[43mp\u001b[49m\u001b[38;5;241;43m.\u001b[39;49m\u001b[43mstdout\u001b[49m\u001b[38;5;241;43m.\u001b[39;49m\u001b[43mreadline\u001b[49m\u001b[43m(\u001b[49m\u001b[43m)\u001b[49m\n\u001b[1;32m    105\u001b[0m     \u001b[38;5;28;01mif\u001b[39;00m \u001b[38;5;129;01mnot\u001b[39;00m line \u001b[38;5;129;01mand\u001b[39;00m p\u001b[38;5;241m.\u001b[39mpoll() \u001b[38;5;129;01mis\u001b[39;00m \u001b[38;5;129;01mnot\u001b[39;00m \u001b[38;5;28;01mNone\u001b[39;00m:\n\u001b[1;32m    106\u001b[0m         \u001b[38;5;28;01mbreak\u001b[39;00m\n",
      "\u001b[0;31mKeyboardInterrupt\u001b[0m: "
     ]
    }
   ],
   "source": [
    "geometry = openmc.Geometry(universe)\n",
    "geometry.export_to_xml()\n",
    "\n",
    "materials = list(geometry.get_all_materials().values())\n",
    "openmc.Materials(materials).export_to_xml()\n",
    "\n",
    "settings = openmc.Settings()\n",
    "settings.run_mode = 'plot'\n",
    "settings.export_to_xml()\n",
    "\n",
    "#mc.plot_geometry()\n",
    "plot = openmc.Plot.from_geometry(geometry)\n",
    "plot.basis = 'xz'\n",
    "plot.width = (core_r*4, core_h*2)\n",
    "plot.pixels = (600, 600)\n",
    "plot.to_ipython_image()\n",
    "#mc.plot_inline(plot)"
   ]
  },
  {
   "cell_type": "code",
   "execution_count": 49,
   "id": "b1c30e70-54d9-474b-8931-a037f45a05b2",
   "metadata": {},
   "outputs": [
    {
     "ename": "KeyboardInterrupt",
     "evalue": "",
     "output_type": "error",
     "traceback": [
      "\u001b[0;31m---------------------------------------------------------------------------\u001b[0m",
      "\u001b[0;31mKeyboardInterrupt\u001b[0m                         Traceback (most recent call last)",
      "Cell \u001b[0;32mIn[49], line 5\u001b[0m\n\u001b[1;32m      3\u001b[0m plot\u001b[38;5;241m.\u001b[39mwidth \u001b[38;5;241m=\u001b[39m (core_r\u001b[38;5;241m*\u001b[39m\u001b[38;5;241m3\u001b[39m, core_h\u001b[38;5;241m*\u001b[39m\u001b[38;5;241m1.5\u001b[39m)\n\u001b[1;32m      4\u001b[0m plot\u001b[38;5;241m.\u001b[39mpixels \u001b[38;5;241m=\u001b[39m (\u001b[38;5;241m2400\u001b[39m, \u001b[38;5;241m2400\u001b[39m)\n\u001b[0;32m----> 5\u001b[0m \u001b[43mplot\u001b[49m\u001b[38;5;241;43m.\u001b[39;49m\u001b[43mto_ipython_image\u001b[49m\u001b[43m(\u001b[49m\u001b[43m)\u001b[49m\n",
      "File \u001b[0;32m~/anaconda3/envs/lammps-openmc/lib/python3.12/site-packages/openmc/plots.py:1025\u001b[0m, in \u001b[0;36mPlot.to_ipython_image\u001b[0;34m(self, openmc_exec, cwd)\u001b[0m\n\u001b[1;32m   1022\u001b[0m Plots([\u001b[38;5;28mself\u001b[39m])\u001b[38;5;241m.\u001b[39mexport_to_xml(cwd)\n\u001b[1;32m   1024\u001b[0m \u001b[38;5;66;03m# Run OpenMC in geometry plotting mode\u001b[39;00m\n\u001b[0;32m-> 1025\u001b[0m \u001b[43mopenmc\u001b[49m\u001b[38;5;241;43m.\u001b[39;49m\u001b[43mplot_geometry\u001b[49m\u001b[43m(\u001b[49m\u001b[38;5;28;43;01mFalse\u001b[39;49;00m\u001b[43m,\u001b[49m\u001b[43m \u001b[49m\u001b[43mopenmc_exec\u001b[49m\u001b[43m,\u001b[49m\u001b[43m \u001b[49m\u001b[43mcwd\u001b[49m\u001b[43m)\u001b[49m\n\u001b[1;32m   1027\u001b[0m \u001b[38;5;66;03m# Return produced image\u001b[39;00m\n\u001b[1;32m   1028\u001b[0m \u001b[38;5;28;01mreturn\u001b[39;00m _get_plot_image(\u001b[38;5;28mself\u001b[39m, cwd)\n",
      "File \u001b[0;32m~/anaconda3/envs/lammps-openmc/lib/python3.12/site-packages/openmc/executor.py:154\u001b[0m, in \u001b[0;36mplot_geometry\u001b[0;34m(output, openmc_exec, cwd, path_input)\u001b[0m\n\u001b[1;32m    152\u001b[0m \u001b[38;5;28;01mif\u001b[39;00m path_input \u001b[38;5;129;01mis\u001b[39;00m \u001b[38;5;129;01mnot\u001b[39;00m \u001b[38;5;28;01mNone\u001b[39;00m:\n\u001b[1;32m    153\u001b[0m     args \u001b[38;5;241m+\u001b[39m\u001b[38;5;241m=\u001b[39m [path_input]\n\u001b[0;32m--> 154\u001b[0m \u001b[43m_run\u001b[49m\u001b[43m(\u001b[49m\u001b[43margs\u001b[49m\u001b[43m,\u001b[49m\u001b[43m \u001b[49m\u001b[43moutput\u001b[49m\u001b[43m,\u001b[49m\u001b[43m \u001b[49m\u001b[43mcwd\u001b[49m\u001b[43m)\u001b[49m\n",
      "File \u001b[0;32m~/anaconda3/envs/lammps-openmc/lib/python3.12/site-packages/openmc/executor.py:104\u001b[0m, in \u001b[0;36m_run\u001b[0;34m(args, output, cwd)\u001b[0m\n\u001b[1;32m    101\u001b[0m lines \u001b[38;5;241m=\u001b[39m []\n\u001b[1;32m    102\u001b[0m \u001b[38;5;28;01mwhile\u001b[39;00m \u001b[38;5;28;01mTrue\u001b[39;00m:\n\u001b[1;32m    103\u001b[0m     \u001b[38;5;66;03m# If OpenMC is finished, break loop\u001b[39;00m\n\u001b[0;32m--> 104\u001b[0m     line \u001b[38;5;241m=\u001b[39m \u001b[43mp\u001b[49m\u001b[38;5;241;43m.\u001b[39;49m\u001b[43mstdout\u001b[49m\u001b[38;5;241;43m.\u001b[39;49m\u001b[43mreadline\u001b[49m\u001b[43m(\u001b[49m\u001b[43m)\u001b[49m\n\u001b[1;32m    105\u001b[0m     \u001b[38;5;28;01mif\u001b[39;00m \u001b[38;5;129;01mnot\u001b[39;00m line \u001b[38;5;129;01mand\u001b[39;00m p\u001b[38;5;241m.\u001b[39mpoll() \u001b[38;5;129;01mis\u001b[39;00m \u001b[38;5;129;01mnot\u001b[39;00m \u001b[38;5;28;01mNone\u001b[39;00m:\n\u001b[1;32m    106\u001b[0m         \u001b[38;5;28;01mbreak\u001b[39;00m\n",
      "\u001b[0;31mKeyboardInterrupt\u001b[0m: "
     ]
    }
   ],
   "source": [
    "plot.color_by = 'material'\n",
    "plot.colors = {graphite: 'gray', air: 'lightblue', fuel: 'hotpink', PyC: 'lavender'}\n",
    "plot.width = (core_r*3, core_h*1.5)\n",
    "plot.pixels = (2400, 2400)\n",
    "plot.to_ipython_image()"
   ]
  },
  {
   "cell_type": "code",
   "execution_count": null,
   "id": "64183424-cab3-4f5e-83d7-d600cb6f14e4",
   "metadata": {},
   "outputs": [],
   "source": []
  }
 ],
 "metadata": {
  "kernelspec": {
   "display_name": "Python 3 (ipykernel)",
   "language": "python",
   "name": "python3"
  },
  "language_info": {
   "codemirror_mode": {
    "name": "ipython",
    "version": 3
   },
   "file_extension": ".py",
   "mimetype": "text/x-python",
   "name": "python",
   "nbconvert_exporter": "python",
   "pygments_lexer": "ipython3",
   "version": "3.12.8"
  }
 },
 "nbformat": 4,
 "nbformat_minor": 5
}
