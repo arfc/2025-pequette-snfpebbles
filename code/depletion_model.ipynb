{
 "cells": [
  {
   "cell_type": "code",
   "execution_count": 12,
   "id": "4e580b6a-4f64-4835-b690-6b5ae6796cfd",
   "metadata": {},
   "outputs": [],
   "source": [
    "import openmc\n",
    "import numpy as np\n",
    "import time\n",
    "import csv\n",
    "import openmc.deplete"
   ]
  },
  {
   "cell_type": "code",
   "execution_count": 33,
   "id": "82a64e9b-e750-4185-a875-7fb89d44ed26",
   "metadata": {},
   "outputs": [
    {
     "data": {
      "image/png": "[encoded data removed]",
      "text/plain": [
       "<Figure size 258.065x259.74 with 1 Axes>"
      ]
     },
     "metadata": {},
     "output_type": "display_data"
    }
   ],
   "source": [
    "#mats taken from openmc triso example https://github.com/openmc-dev/openmc/wiki/Example-Jupyter-Notebooks\n",
    "\n",
    "#TRISO fuel specific\n",
    "fuel = openmc.Material(name='Fuel')\n",
    "fuel.set_density('g/cm3', 10.5)\n",
    "\n",
    "#below compositions will need to be adjusted as this is for fresh fuel\n",
    "fuel.add_nuclide('U235', 0.04/7, percent_type = 'wo')\n",
    "fuel.add_nuclide('U236', 0.015/7, percent_type = 'wo')\n",
    "fuel.add_nuclide('Pu239',  0.048/7, percent_type = 'wo')\n",
    "fuel.volume = 65.44984692 #in cm3\n",
    "\n",
    "#need to add buffer layer:\n",
    "Buffer = openmc.Material(name='Buffer')\n",
    "Buffer.set_density('g/cm3', 1.02)\n",
    "Buffer.add_element('C', 1.0)\n",
    "Buffer.add_s_alpha_beta('c_Graphite')\n",
    "t_Buffer = 0.01 #thickeness of buffer layer\n",
    "\n",
    "#adding the PyC layer\n",
    "PyC = openmc.Material(name='PyC1')\n",
    "PyC.set_density('g/cm3', 1.92)\n",
    "PyC.add_element('C', 1.0)\n",
    "PyC.add_s_alpha_beta('c_Graphite')\n",
    "tiPyC = 0.0039 #thickness of inner PyC\n",
    "toPyC = tiPyC\n",
    "\n",
    "#adding the SiC layer\n",
    "SiC = openmc.Material(name='SiC')\n",
    "SiC.set_density('g/cm3', 3.2)\n",
    "SiC.add_element('C', 0.5)\n",
    "SiC.add_element('Si', 0.5)\n",
    "tSic = 0.0035 #thickness of SiC\n",
    "\n",
    "#outer pebble material\n",
    "graphite = openmc.Material()\n",
    "graphite.set_density('g/cm3', 1.7) #A3-3 Graphite\n",
    "graphite.add_element('C', 1.0) \n",
    "graphite.add_s_alpha_beta('c_Graphite')\n",
    "\n",
    "\n",
    "#cask fill insert, may also be helium\n",
    "air = openmc.Material(name='air')\n",
    "air.set_density('atom/b-cm', 0.0006) #'atom/b-cm', 0.0006\n",
    "air.add_element('N',0.78)\n",
    "air.add_element('O',0.21)\n",
    "air.add_element('Ar',0.01)\n",
    "\n",
    "\n",
    "#cask materials \n",
    "\n",
    "#inner cask\n",
    "SS304 = openmc.Material(name = 'SS304')\n",
    "SS304.set_density('g/cm3',7.93)\n",
    "SS304.add_element('C',0.08/100,'wo')\n",
    "SS304.add_element('P',0.045/100,'wo')\n",
    "SS304.add_element('Si',0.75/100, 'wo')\n",
    "SS304.add_element('Ni',13.5/100, 'wo')\n",
    "SS304.add_element('N',0.1/100,'wo')\n",
    "SS304.add_element('Mn',2/100, 'wo')\n",
    "SS304.add_element('S',0.03/100,'wo')\n",
    "SS304.add_element('Cr',19/100,'wo')\n",
    "SS304.add_element('B',2.250/100,'wo')\n",
    "SS304.add_element('Fe',62.245/100,'wo')\n",
    "t_ss = 2 #cm\n",
    "\n",
    "#concrete\n",
    "conc = openmc.Material(name = 'conc')\n",
    "conc.set_density('g/cm3',2.43)\n",
    "conc.add_element('H',1,'wo')\n",
    "#need to use mix materials to design this shielding cask \n",
    "#need a new method to approach the composition of dense concrete\n",
    "t_conc = 20 #cm\n",
    "\n",
    "#XM-19\n",
    "xm19 = openmc.Material(name = 'xm19')\n",
    "xm19.set_density('g/cm3',7.88)\n",
    "xm19.add_element('Cr',22/100,'wo')\n",
    "xm19.add_element('Ni',12.5/100,'wo')\n",
    "xm19.add_element('Mn',5/100,'wo')\n",
    "xm19.add_element('Mo',2.25/100,'wo')\n",
    "xm19.add_element('Si',1/100,'wo')\n",
    "xm19.add_element('N',0.3/100,'wo')\n",
    "xm19.add_element('Nb',0.2/100,'wo')\n",
    "xm19.add_element('P',0.2/100,'wo')\n",
    "xm19.add_element('C',0.06/100,'wo')\n",
    "xm19.add_element('S',0.01/100,'wo')\n",
    "xm19.add_element('Fe',56.48/100,'wo')\n",
    "t_xm19 = 10 #cm\n",
    "\n",
    "\n",
    "#in centimeters (assuming it to be, looking at above units), need to check this with ZOE\n",
    "#fuel pebble dimensions\n",
    "peb_or = 3 #non-fuel portion\n",
    "peb_ir = 2.5 #fuel portion\n",
    "\n",
    "#TRISO particle dimensions\n",
    "kernel_or = 0.02545 #radius of fuel kernel\n",
    "buffer_r = kernel_or + t_Buffer\n",
    "ipyc_r = buffer_r + tiPyC\n",
    "sic_r = ipyc_r + tSic\n",
    "opyc_r = sic_r + tiPyC #should be around 0.0455 cm, it is 0.04675\n",
    "\n",
    "#core (cask) dimensions \n",
    "core_r = 0.5*100\n",
    "core_h = 4.16*100\n",
    "\n",
    "#more defining of our triso particles, all code below for developing our TRISO particles\n",
    "kernelsph = openmc.Sphere(r=kernel_or)\n",
    "buffsph = openmc.Sphere(r=buffer_r)\n",
    "IPyCsph = openmc.Sphere(r=ipyc_r)\n",
    "SiCsph = openmc.Sphere(r=sic_r)\n",
    "OPyCsph = openmc.Sphere(r=opyc_r)\n",
    "\n",
    "layers = [kernelsph, buffsph, IPyCsph, SiCsph, OPyCsph]\n",
    "triso_mats = [fuel, Buffer, PyC, SiC, PyC]\n",
    "triso_cells = []\n",
    "for i in range(5):\n",
    "  if (i == 0):\n",
    "    triso_cells.append(openmc.Cell(fill=triso_mats[0], region=-layers[0]))\n",
    "  else:\n",
    "    triso_cells.append(openmc.Cell(fill=triso_mats[i], region=+layers[i-1] & -layers[i]))\n",
    "\n",
    "triso_universe = openmc.Universe(cells=triso_cells)\n",
    "triso_colors = {triso_cells[0]: (199,21,133), triso_cells[1]: (176,224,230), \n",
    "                triso_cells[2]: (255,215,0), triso_cells[3]: (46,139,87), \n",
    "                triso_cells[4]: (255,215, 0)}\n",
    "triso_universe.plot(width = (0.1, 0.1), colors = triso_colors)\n",
    "\n",
    "#defining region to fill our fuel pebbles with!!!!!\n",
    "peb_wfuel = openmc.Sphere(r=peb_ir)\n",
    "peb_wfuel_outer = -peb_wfuel\n",
    "\n",
    "centers = openmc.model.pack_spheres(opyc_r, region=peb_wfuel_outer, num_spheres = 19000 ) #saying to fill only the fuel portion of the TRISO particle\n",
    "#above function will pack pebbles into a sphere, it returns an array of positions that are used in the in next line of code \n",
    "trisos = [openmc.model.TRISO(kernel_or, triso_universe, center) for center in centers] # packs pebbles based on the centers positions array \n",
    "#print(centers) #this is the positions of the TRISO pebbles themselves"
   ]
  },
  {
   "cell_type": "code",
   "execution_count": 34,
   "id": "9febb92e-3e14-4c57-ab23-8b95180abb91",
   "metadata": {},
   "outputs": [],
   "source": [
    "#need to develop the geometry of our cask as a region\n",
    "inner_cask = openmc.ZCylinder(r=0.5)\n",
    "maxz = openmc.ZPlane(z0=core_h/2, boundary_type='white')\n",
    "minz = openmc.ZPlane(z0=-core_h/2, boundary_type='white')\n",
    "\n",
    "lattice_region = -inner_cask & -maxz & +minz"
   ]
  },
  {
   "cell_type": "code",
   "execution_count": 35,
   "id": "98211862-05a1-49c4-bd1c-058a23d1a3f9",
   "metadata": {},
   "outputs": [
    {
     "data": {
      "text/plain": [
       "<Axes: xlabel='x [cm]', ylabel='y [cm]'>"
      ]
     },
     "execution_count": 35,
     "metadata": {},
     "output_type": "execute_result"
    },
    {
     "data": {
      "image/png": "[encoded data removed]",
      "text/plain": [
       "<Figure size 258.065x259.74 with 1 Axes>"
      ]
     },
     "metadata": {},
     "output_type": "display_data"
    }
   ],
   "source": [
    "#generating the fuel pebbler\n",
    "peb_nofuel = openmc.Sphere(r=peb_or) #generates a sphere of this radius\n",
    "peb_nofuel_zone_outer = -peb_nofuel \n",
    "peb_nofuel_zone_inner = +peb_wfuel #creates a non-fuel region for our pebble\n",
    "peb_fuel_zone = -peb_wfuel\n",
    "\n",
    "sphere = openmc.Cell(region=peb_wfuel_outer) #only focusing on fuel containing portion of our fuel pebble\n",
    "lower_left, upper_right = sphere.region.bounding_box\n",
    "shape = (1,1,1) #Number of lattice elements in the x-, y-, and z-directions, look at the example in the repo\n",
    "pitch = (upper_right - lower_left)/shape\n",
    "lattice = openmc.model.create_triso_lattice(\n",
    "    trisos, lower_left, pitch, shape, graphite)\n",
    "sphere.fill = lattice\n",
    "\n",
    "pebble_element = [sphere,\n",
    "              openmc.Cell(fill=graphite, region=peb_nofuel_zone_inner & peb_nofuel_zone_outer)]\n",
    "pebble_univ = openmc.Universe(cells=pebble_element)\n",
    "\n",
    "active_core_sides = openmc.ZCylinder(r = core_r)\n",
    "active_core_top = openmc.ZPlane(z0=(core_h/2))\n",
    "active_core_bot = openmc.ZPlane(z0=-(core_h/2))\n",
    "active_core_bound = -active_core_sides & -active_core_top & +active_core_bot\n",
    "pebble_univ.plot()"
   ]
  },
  {
   "cell_type": "code",
   "execution_count": 36,
   "id": "9ae80e7c-7d27-446b-bf12-f6d96318c0f5",
   "metadata": {},
   "outputs": [
    {
     "data": {
      "text/plain": [
       "[-9.26872, -46.08, -205.00500000000002]"
      ]
     },
     "execution_count": 36,
     "metadata": {},
     "output_type": "execute_result"
    }
   ],
   "source": [
    "#code to get the location data for the individual fuel pebbles!!!!!\n",
    "results = []\n",
    "new_row = []\n",
    "with open(\"position for pebbles/settlephase_final_positions.csv\") as csvfile:\n",
    "    reader = csv.reader(csvfile, quoting=csv.QUOTE_NONNUMERIC) # change contents to floats\n",
    "    for row in reader: # each row is a list\n",
    "        results.append(row)\n",
    "      \n",
    "def multiply_list_by_scalar(list_of_lists, scalar):\n",
    "    output = [[element * scalar for element in sub_list] for sub_list in list_of_lists]\n",
    "    return output\n",
    "\n",
    "# Example usage:\n",
    "my_list = results\n",
    "scalar_value = 100\n",
    "multiplied_list = multiply_list_by_scalar(my_list, scalar_value)\n",
    "multiplied_list[0] "
   ]
  },
  {
   "cell_type": "code",
   "execution_count": 37,
   "id": "cc5948a6-9866-494a-82eb-6a20793bd883",
   "metadata": {},
   "outputs": [
    {
     "name": "stdout",
     "output_type": "stream",
     "text": [
      "starting openmc pack\n",
      "0.0009780259997569374\n",
      "[ -47.0057  -47.0039 -205.013 ]\n",
      "[ 47.0076  47.0086 199.709 ]\n"
     ]
    },
    {
     "name": "stderr",
     "output_type": "stream",
     "text": [
      "/home/ceserz2/anaconda3/envs/lammps-openmc/lib/python3.12/site-packages/openmc/model/triso.py:850: UserWarning: TRISO particle is partially or completely outside of the lattice.\n",
      "  warnings.warn('TRISO particle is partially or completely '\n"
     ]
    }
   ],
   "source": [
    "print(\"starting openmc pack\")\n",
    "start_time = time.perf_counter()\n",
    "peb_centers = multiplied_list\n",
    "#openmc.model.pack_spheres(peb_or, region=active_core_bound, pf = .40, contraction_rate = 0.0000001)\n",
    "#need to implement this as an array of a bunch of position arrays, this might be randomly generated\n",
    "print(time.perf_counter()-start_time)\n",
    "\n",
    "pebs = [openmc.model.TRISO(peb_or, pebble_univ, peb_center) for peb_center in peb_centers] #display the locations of these pebbles using the ARFC computer\n",
    "#implement our pebble locations\n",
    "\n",
    "peb_centertest = np.vstack([peb.center for peb in pebs]) #veritically stacks the above array to easily read the positions of the pebbles\n",
    "print(peb_centertest.min(axis=0))\n",
    "print(peb_centertest.max(axis=0))\n",
    "\n",
    "inner_core = openmc.Cell(region=active_core_bound)\n",
    "lower_left_core, upper_right_core = inner_core.region.bounding_box\n",
    "shape_core = (1,1,1)\n",
    "pitch_core = (upper_right_core - lower_left_core)/shape_core\n",
    "core_lattice = openmc.model.create_triso_lattice(\n",
    "    pebs, lower_left_core, pitch_core, shape_core, air)\n",
    "\n",
    "inner_core.fill=core_lattice"
   ]
  },
  {
   "cell_type": "code",
   "execution_count": 38,
   "id": "d0269850-9a0c-4f5a-804b-782a636e6cf1",
   "metadata": {},
   "outputs": [
    {
     "data": {
      "text/plain": [
       "<Axes: xlabel='x [cm]', ylabel='y [cm]'>"
      ]
     },
     "execution_count": 38,
     "metadata": {},
     "output_type": "execute_result"
    },
    {
     "data": {
      "image/png": "[encoded data removed]",
      "text/plain": [
       "<Figure size 258.065x259.74 with 1 Axes>"
      ]
     },
     "metadata": {},
     "output_type": "display_data"
    }
   ],
   "source": [
    "#AGAIN, looking at adding material surrounding the core (or our cask)\n",
    "\n",
    "#inner cask only\n",
    "inner_cask_sides = openmc.ZCylinder(r = (core_r+t_ss), boundary_type='white')\n",
    "inner_cask_top = openmc.ZPlane(z0=((core_h/2)+t_ss),boundary_type='white')\n",
    "inner_cask_bot = openmc.ZPlane(z0=-((core_h/2)+t_ss),boundary_type='white')\n",
    "inner_cask_outer = -inner_cask_sides & -inner_cask_top & +inner_cask_bot\n",
    "inner_cask_bounds = inner_cask_outer | active_core_bound\n",
    "inner = openmc.Cell(region = inner_cask_bounds, fill = SS304)\n",
    "\n",
    "#concrete shielding now!!!!\n",
    "r_conc_in = core_r+t_ss\n",
    "r_conc_tot = r_conc_in+t_conc\n",
    "conc_sides = openmc.ZCylinder(r = r_conc_tot, boundary_type='white')\n",
    "conc_top = openmc.ZPlane(z0=r_conc_tot,boundary_type='white')\n",
    "conc_bot = openmc.ZPlane(z0=-r_conc_tot,boundary_type='white')\n",
    "conc_outer = -conc_sides & -conc_top & +conc_bot\n",
    "conc_cask_bounds = conc_outer | active_core_bound\n",
    "concrete = openmc.Cell(region = conc_cask_bounds, fill = conc)\n",
    "\n",
    "#concrete shielding now!!!!\n",
    "r_xm19_in = r_conc_tot\n",
    "r_xm19_tot = r_conc_tot+t_xm19\n",
    "xm19_sides = openmc.ZCylinder(r = r_xm19_tot, boundary_type='white')\n",
    "xm19_top = openmc.ZPlane(z0=r_xm19_tot,boundary_type='white')\n",
    "xm19_bot = openmc.ZPlane(z0=-r_xm19_tot,boundary_type='white')\n",
    "xm19_outer = -xm19_sides & -xm19_top & +xm19_bot\n",
    "xm19_cask_bounds = xm19_outer | active_core_bound\n",
    "impact = openmc.Cell(region = xm19_cask_bounds, fill = xm19)\n",
    "universe = openmc.Universe(cells=[inner_core,inner,concrete,impact])\n",
    "universe.plot()"
   ]
  },
  {
   "cell_type": "code",
   "execution_count": 39,
   "id": "9f91290b-0f6b-424b-a3c3-1c60cec77630",
   "metadata": {},
   "outputs": [],
   "source": [
    "#model has been developed, time to set-up depletion\n",
    "geometry = openmc.Geometry(universe)\n",
    "settings = openmc.Settings()\n",
    "settings.particles = 1000\n",
    "settings.inactive = 10\n",
    "settings.batches = 50"
   ]
  },
  {
   "cell_type": "code",
   "execution_count": 40,
   "id": "f98cee5b-e9c2-40f3-adb7-84c25d88bc14",
   "metadata": {},
   "outputs": [],
   "source": [
    "chain = openmc.deplete.Chain.from_xml(\"./chain_endfb71_pwr.xml\")\n",
    "#chain.nuclide_dict"
   ]
  },
  {
   "cell_type": "code",
   "execution_count": 42,
   "id": "8020b9a3-8db6-43e5-b4ba-f18da266b713",
   "metadata": {},
   "outputs": [],
   "source": [
    "model = openmc.Model(geometry=geometry, settings=settings)\n",
    "op = openmc.deplete.CoupledOperator(model,\"./chain_endfb71_pwr.xml\")\n",
    "timesteps = [365]*3\n",
    "power = 0\n",
    "x = openmc.deplete.CECMIntegrator(op, timesteps, power, timestep_units='d')"
   ]
  },
  {
   "cell_type": "code",
   "execution_count": null,
   "id": "78c6615b-c26d-4339-a038-fca343a5f2ed",
   "metadata": {},
   "outputs": [],
   "source": []
  },
  {
   "cell_type": "code",
   "execution_count": null,
   "id": "b7a9e4d1-3718-4797-aac0-22fda3a11d9e",
   "metadata": {},
   "outputs": [],
   "source": []
  }
 ],
 "metadata": {
  "kernelspec": {
   "display_name": "Python 3 (ipykernel)",
   "language": "python",
   "name": "python3"
  },
  "language_info": {
   "codemirror_mode": {
    "name": "ipython",
    "version": 3
   },
   "file_extension": ".py",
   "mimetype": "text/x-python",
   "name": "python",
   "nbconvert_exporter": "python",
   "pygments_lexer": "ipython3",
   "version": "3.12.8"
  }
 },
 "nbformat": 4,
 "nbformat_minor": 5
}
