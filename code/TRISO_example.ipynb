{
 "cells": [
  {
   "cell_type": "code",
   "execution_count": 1,
   "id": "712b4b60-ce94-4f28-b04a-fbc584e8982c",
   "metadata": {},
   "outputs": [],
   "source": [
    "%matplotlib inline\n",
    "from math import pi\n",
    "import numpy as np\n",
    "import matplotlib.pyplot as plt\n",
    "import openmc\n",
    "import openmc.model"
   ]
  },
  {
   "cell_type": "code",
   "execution_count": null,
   "id": "6151125a-50de-4905-add3-a2c66e2cde8f",
   "metadata": {},
   "outputs": [],
   "source": []
  },
  {
   "cell_type": "code",
   "execution_count": null,
   "id": "ede39cc8-de78-44a8-bc42-90b5527bae87",
   "metadata": {},
   "outputs": [],
   "source": [
    "outer_radius = 425.*1e-4\n",
    "centers = openmc.model.pack_spheres(radius=outer_radius, region=region, pf=0.3, seed=124848351)"
   ]
  },
  {
   "cell_type": "code",
   "execution_count": null,
   "id": "b4a7a7b7-9a2e-4a02-a463-5206486c4abd",
   "metadata": {},
   "outputs": [],
   "source": [
    "trisos = [openmc.model.TRISO(outer_radius, triso_univ, center) for center in centers]"
   ]
  },
  {
   "cell_type": "code",
   "execution_count": null,
   "id": "2cfc4637-1887-419e-93da-fe802df9a795",
   "metadata": {},
   "outputs": [],
   "source": [
    "box = openmc.Cell(region=region)\n",
    "lower_left, upper_right = box.region.bounding_box\n",
    "shape = (3, 3, 3)\n",
    "pitch = (upper_right - lower_left)/shape\n",
    "lattice = openmc.model.create_triso_lattice(\n",
    "    trisos, lower_left, pitch, shape, graphite)"
   ]
  },
  {
   "cell_type": "code",
   "execution_count": null,
   "id": "b65c661a-3a63-4381-9706-6a742613fa1c",
   "metadata": {},
   "outputs": [],
   "source": [
    "box.fill = lattice"
   ]
  },
  {
   "cell_type": "code",
   "execution_count": null,
   "id": "80ddc604-72dc-45d5-95cf-d837ee371ea0",
   "metadata": {},
   "outputs": [],
   "source": [
    "universe = openmc.Universe(cells=[box])\n",
    "\n",
    "geometry = openmc.Geometry(universe)\n",
    "geometry.export_to_xml()\n",
    "\n",
    "materials = list(geometry.get_all_materials().values())\n",
    "openmc.Materials(materials).export_to_xml()\n",
    "\n",
    "settings = openmc.Settings()\n",
    "settings.run_mode = 'plot'\n",
    "settings.export_to_xml()\n",
    "\n",
    "plot = openmc.Plot.from_geometry(geometry)\n",
    "plot.to_ipython_image()"
   ]
  },
  {
   "cell_type": "code",
   "execution_count": null,
   "id": "3588f37f-4a3e-4b6f-8828-2a7967026e47",
   "metadata": {},
   "outputs": [],
   "source": [
    "plot.color_by = 'material'\n",
    "plot.colors = {graphite: 'gray'}\n",
    "plot.to_ipython_image()"
   ]
  }
 ],
 "metadata": {
  "kernelspec": {
   "display_name": "Python 3 (ipykernel)",
   "language": "python",
   "name": "python3"
  },
  "language_info": {
   "codemirror_mode": {
    "name": "ipython",
    "version": 3
   },
   "file_extension": ".py",
   "mimetype": "text/x-python",
   "name": "python",
   "nbconvert_exporter": "python",
   "pygments_lexer": "ipython3",
   "version": "3.12.9"
  }
 },
 "nbformat": 4,
 "nbformat_minor": 5
}
