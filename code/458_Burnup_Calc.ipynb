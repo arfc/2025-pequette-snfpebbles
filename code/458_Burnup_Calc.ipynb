{
 "cells": [
  {
   "cell_type": "code",
   "execution_count": 1,
   "id": "b66e68a2-d44f-4825-9d99-cd89e296fbb0",
   "metadata": {},
   "outputs": [],
   "source": [
    "import numpy as np"
   ]
  },
  {
   "cell_type": "code",
   "execution_count": 87,
   "id": "e6446c24-5037-4864-8974-40303e9abe22",
   "metadata": {},
   "outputs": [
    {
     "data": {
      "text/plain": [
       "[27160.85296671107,\n",
       " 54321.70593342214,\n",
       " 81482.55890013321,\n",
       " 108643.41186684428,\n",
       " 135804.26483355535,\n",
       " 162965.11780026642]"
      ]
     },
     "execution_count": 87,
     "metadata": {},
     "output_type": "execute_result"
    }
   ],
   "source": [
    "option = 2\n",
    "if option == 1:\n",
    "    L = 0.707632\n",
    "    Q = 5 #MW/m^3\n",
    "    d = 0.0484429 #MTU/m^3\n",
    "\n",
    "if option == 2:\n",
    "    L = 0.914492\n",
    "    Q = 4.415 #MW/m^3\n",
    "    d = 0.0377573 #MTU/m^3\n",
    "\n",
    "#pebble passing time#\n",
    "#for PBMR, 10 passes, each pass is 120 days\n",
    "#for Xe-100, 6 passes, each pass is about 254 days\n",
    "\n",
    "#defining function\n",
    "def burnup(x):\n",
    "    burnup = L*Q*x/d\n",
    "    return burnup\n",
    "\n",
    "#burnup value\n",
    "burn_up = []\n",
    "if option == 1:\n",
    "    for i in range(1,12):\n",
    "        burn_up.append(burnup(i*120))\n",
    "\n",
    "if option == 2:\n",
    "    for i in range(1,7):\n",
    "        burn_up.append(burnup(i*254))\n",
    "\n",
    "burn_up"
   ]
  },
  {
   "cell_type": "code",
   "execution_count": null,
   "id": "2d195403-e04d-4948-8b92-3af0be280b84",
   "metadata": {},
   "outputs": [],
   "source": []
  }
 ],
 "metadata": {
  "kernelspec": {
   "display_name": "Python 3 (ipykernel)",
   "language": "python",
   "name": "python3"
  },
  "language_info": {
   "codemirror_mode": {
    "name": "ipython",
    "version": 3
   },
   "file_extension": ".py",
   "mimetype": "text/x-python",
   "name": "python",
   "nbconvert_exporter": "python",
   "pygments_lexer": "ipython3",
   "version": "3.12.2"
  }
 },
 "nbformat": 4,
 "nbformat_minor": 5
}
